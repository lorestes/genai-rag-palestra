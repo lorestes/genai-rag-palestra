{
 "cells": [
  {
   "cell_type": "markdown",
   "id": "3ef07783-74da-47db-9b0e-7acf7c8f37cb",
   "metadata": {},
   "source": [
    "# 💬 Agente de Perguntas e Respostas com RAG — SegurosLLM\n",
    "---\n",
    "\n",
    "Um assistente interno de conhecimento para colaboradores da **SegurosLLM**, baseado em **Retrieval-Augmented Generation (RAG)**.  \n",
    "Combina **busca semântica** com **modelos GPT da OpenAI**, oferecendo respostas rápidas, precisas e econômicas sobre políticas, processos e documentos internos.\n",
    "\n",
    "---\n",
    "\n",
    "### 🚀 Visão Geral\n",
    "- **Objetivo:** Responder perguntas sobre a SegurosLLM usando uma arquitetura RAG simples.  \n",
    "- **Modelos:** GPT da OpenAI via LangChain.  \n",
    "- **Recuperação:** ChromaDB com embeddings da OpenAI.  \n",
    "- **Interface:** Chat interativo via Gradio.\n",
    "\n",
    "---\n",
    "\n",
    "### 🧩 Principais Recursos\n",
    "- 📂 Carrega automaticamente arquivos **PDF**, **TXT** e **Markdown** de subpastas.  \n",
    "- ⚡ Atualiza apenas quando há mudanças nos arquivos (evita retrabalho).  \n",
    "- 🧠 Divide documentos em partes sobrepostas para melhorar a precisão da busca.  \n",
    "- 🔍 Recupera informações relevantes por similaridade semântica.  \n",
    "- 🗣️ Mantém histórico de conversa e exibe as fontes usadas nas respostas.  \n",
    "- 🧾 Garante respostas baseadas apenas na base de conhecimento interna.  \n",
    "- 🎨 Interface web leve e intuitiva, com respostas em tempo real.  \n",
    "- 🛡️ Lida com erros e detecta conteúdo duplicado de forma automática.  \n",
    "- 🧰 Estrutura pronta para uso corporativo, com organização de documentos e logs.  \n",
    "\n",
    "---\n",
    "\n",
    "### ⚙️ Configuração\n",
    "\n",
    "- **LangChain:** 0.3.21  \n",
    "- **OpenAI:** 1.69.0  \n",
    "- **ChromaDB:** 0.6.3  \n",
    "- **Gradio:** 5.23.1  \n",
    "- **Python:** 3.11.11  \n",
    "\n",
    "### 🛠️ Requisitos\n",
    "🔑 Chave de API da OpenAI (`OPENAI_API_KEY`)  \n",
    "💻 Hardware: CPU é suficiente — GPU não necessária.\n",
    "\n",
    "---\n",
    "\n",
    "### 🧩 Personalização\n",
    "- 📝 Ajuste os prompts do sistema e de contexto.  \n",
    "- 📁 Adicione novos documentos corporativos.  \n",
    "- 🎯 Modifique parâmetros como **top-k** (número de resultados relevantes) e limiar de similaridade.\n",
    "\n",
    "---"
   ]
  },
  {
   "cell_type": "markdown",
   "id": "b9abf112-72ca-431a-b7cf-b126e0a69a4d",
   "metadata": {},
   "source": [
    "## 📥 Importações\n",
    "\n",
    "Este bloco importa todas as ferramentas que o projeto precisa para funcionar.\n",
    "- As primeiras são do próprio Python (como os, hashlib e pathlib) e ajudam a lidar com arquivos e pastas.\n",
    "- Depois vêm as bibliotecas externas, como numpy (para cálculos), plotly (para gráficos) e gradio (para criar interfaces).\n",
    "- Por fim, entram as ferramentas do LangChain, que ajudam o projeto a conversar com a IA, entender textos e organizar informações."
   ]
  },
  {
   "cell_type": "code",
   "execution_count": 1,
   "id": "5ec05880-9ad3-4aa4-829d-90d8e6f34cf2",
   "metadata": {},
   "outputs": [
    {
     "name": "stdout",
     "output_type": "stream",
     "text": [
      "✅ Sucesso, Importações!\n"
     ]
    }
   ],
   "source": [
    "# Importação: bibliotecas padrão\n",
    "import os\n",
    "import hashlib\n",
    "from pathlib import Path\n",
    "from typing import List\n",
    "\n",
    "# Importação: bibliotecas de terceiros\n",
    "import numpy as np\n",
    "import plotly.graph_objects as go\n",
    "from dotenv import load_dotenv\n",
    "from pydantic import Field\n",
    "from sklearn.manifold import TSNE\n",
    "import gradio as gr\n",
    "\n",
    "# Integrações principais do LangChain\n",
    "from langchain.document_loaders import TextLoader, PyPDFLoader\n",
    "from langchain.text_splitter import CharacterTextSplitter\n",
    "from langchain.schema import BaseRetriever, Document\n",
    "from langchain.schema.vectorstore import VectorStoreRetriever\n",
    "from langchain.callbacks.manager import CallbackManagerForRetrieverRun\n",
    "from langchain.memory import ConversationBufferMemory\n",
    "from langchain.chains import ConversationalRetrievalChain\n",
    "from langchain.prompts import PromptTemplate\n",
    "\n",
    "# Integrações do LangChain\n",
    "from langchain_openai import OpenAIEmbeddings, ChatOpenAI\n",
    "from langchain_chroma import Chroma\n",
    "\n",
    "print(\"✅ Sucesso, Importações!\")"
   ]
  },
  {
   "cell_type": "markdown",
   "id": "09f3ee8c-8e9b-4f3f-afce-c5725f5f8ecd",
   "metadata": {},
   "source": [
    "## 🔐 Carregar variáveis de ambiente e configurações\n",
    "\n",
    "Aqui o código prepara o ambiente:\n",
    "- Ele carrega informações secretas do arquivo .env (como a chave da OpenAI).\n",
    "- Define onde estão os arquivos de texto e onde ficará o banco de dados vetorial.\n",
    "- E verifica se a chave da OpenAI foi encontrada — sem ela, o projeto não consegue conversar com a IA."
   ]
  },
  {
   "cell_type": "code",
   "execution_count": 2,
   "id": "7b5ca4dd-a1c2-4fc6-844f-7b0c83008c99",
   "metadata": {},
   "outputs": [
    {
     "name": "stdout",
     "output_type": "stream",
     "text": [
      "✅ OPENAI_API_KEY carregada com sucesso!\n"
     ]
    }
   ],
   "source": [
    "# Carregar variáveis de ambiente\n",
    "load_dotenv(override=True)\n",
    "\n",
    "# Configuração\n",
    "DATA_PATH = \"demo-rag/base-conhecimento/\"  \n",
    "MODEL = \"gpt-4o-mini\"\n",
    "CHROMA_PATH = \"vector_db/chroma_segurosllm\"\n",
    "\n",
    "# Acessar explicitamente a chave da API da OpenAI\n",
    "openai_api_key = os.getenv('OPENAI_API_KEY')\n",
    "if not openai_api_key:\n",
    "    print(\"❌ OPENAI_API_KEY não encontrada\")\n",
    "else:\n",
    "    print(\"✅ OPENAI_API_KEY carregada com sucesso!\")"
   ]
  },
  {
   "cell_type": "markdown",
   "id": "18e5b9a1-dca8-4b42-8517-174f653f30a7",
   "metadata": {},
   "source": [
    "## 📄 Carregar arquivos como objetos Document na memória\n",
    "Este bloco lê todos os arquivos da pasta base-conhecimento (e suas subpastas).\n",
    "- Ele entende se o arquivo é .pdf, .txt ou .md e escolhe a melhor forma de abri-lo.\n",
    "- Cada documento recebe uma “etiqueta” dizendo de qual pasta e arquivo veio.\n",
    "- No fim, mostra quantos documentos foram carregados e de qual tipo — como “empresa”, “contrato”, “produtos” etc.\n",
    "- Assim o sistema sabe de onde veio cada pedaço de informação que usará para responder perguntas."
   ]
  },
  {
   "cell_type": "code",
   "execution_count": 3,
   "id": "e4494efb-f7b7-4401-a080-d7edc1010c69",
   "metadata": {},
   "outputs": [
    {
     "name": "stdout",
     "output_type": "stream",
     "text": [
      "\n",
      "✅ 26 documentos carregados com sucesso!\n",
      "\n",
      "📂 Distribuição por categoria:\n",
      "   - funcionarios: 12 documentos\n",
      "   - empresa: 3 documentos\n",
      "   - contratos: 7 documentos\n",
      "   - produtos: 4 documentos\n"
     ]
    }
   ],
   "source": [
    "from pathlib import Path\n",
    "from langchain.document_loaders import PyPDFLoader, TextLoader\n",
    "\n",
    "# Caminho base\n",
    "DATA_PATH = Path(\"./base-conhecimento\")\n",
    "\n",
    "# Lista principal de documentos\n",
    "documents = []\n",
    "\n",
    "def add_metadata(doc, file_path):\n",
    "    \"\"\"\n",
    "    Adiciona metadados de tipo (nome da subpasta) e nome do arquivo.\n",
    "    \"\"\"\n",
    "    doc.metadata[\"doc_type\"] = file_path.parent.name   # Ex: empresa, contrato, funcionarios, produtos\n",
    "    doc.metadata[\"file_name\"] = file_path.name\n",
    "    if not doc.page_content.strip():\n",
    "        print(f\"⚠️ Conteúdo vazio em {file_path}\")\n",
    "    return doc\n",
    "\n",
    "# Loop para percorrer todos os arquivos nas subpastas\n",
    "for file_path in DATA_PATH.rglob(\"*\"):\n",
    "    # Ignorar checkpoints do Jupyter\n",
    "    if \".ipynb_checkpoints\" in file_path.parts:\n",
    "        continue\n",
    "\n",
    "    # Ignorar diretórios\n",
    "    if file_path.is_dir():\n",
    "        continue\n",
    "\n",
    "    # Identificar o tipo de arquivo e carregar com o loader correto\n",
    "    try:\n",
    "        if file_path.suffix.lower() == \".pdf\":\n",
    "            loader = PyPDFLoader(str(file_path))\n",
    "        elif file_path.suffix.lower() in (\".txt\", \".md\"):\n",
    "            loader = TextLoader(str(file_path), encoding=\"utf-8\")\n",
    "        else:\n",
    "            # Ignorar extensões que não sejam .pdf, .txt ou .md\n",
    "            continue\n",
    "\n",
    "        docs = loader.load()\n",
    "        documents.extend([add_metadata(doc, file_path) for doc in docs])\n",
    "\n",
    "    except Exception as e:\n",
    "        print(f\"❌ Erro ao carregar {file_path}: {e}\")\n",
    "        continue\n",
    "\n",
    "# Resumo final\n",
    "if documents:\n",
    "    tipos = {}\n",
    "    for doc in documents:\n",
    "        tipo = doc.metadata.get(\"doc_type\", \"desconhecido\")\n",
    "        tipos[tipo] = tipos.get(tipo, 0) + 1\n",
    "\n",
    "    print(f\"\\n✅ {len(documents)} documentos carregados com sucesso!\\n\")\n",
    "    print(\"📂 Distribuição por categoria:\")\n",
    "    for tipo, qtd in tipos.items():\n",
    "        print(f\"   - {tipo}: {qtd} documentos\")\n",
    "else:\n",
    "    print(\"Nenhum documento carregado.\")"
   ]
  },
  {
   "cell_type": "markdown",
   "id": "ed0fcc85-ca14-430a-bde2-db3d77f79143",
   "metadata": {},
   "source": [
    "## ✂️ Dividindo documentos em pedaços (fragmentos)\n",
    "Aqui o código corta os documentos grandes em pedaços menores (fragmentos).\n",
    "- Isso ajuda a IA a entender o conteúdo sem se perder em textos longos.\n",
    "- Cada fragmento recebe um “identificador único”, como se fosse um RG, gerado a partir do seu conteúdo.\n",
    "- Assim, o sistema pode identificar e rastrear cada pedaço de texto depois."
   ]
  },
  {
   "cell_type": "code",
   "execution_count": 4,
   "id": "e40d0487-6db4-4c3f-b0c6-e9aaf4e14b37",
   "metadata": {},
   "outputs": [
    {
     "name": "stdout",
     "output_type": "stream",
     "text": [
      "26 documentos divididos em 106 fragmentos.\n",
      "\n",
      "Metadados do fragmento 1:\n",
      "{'source': 'base-conhecimento/funcionarios/Alex Chen.md', 'doc_type': 'funcionarios', 'file_name': 'Alex Chen.md', 'start_index': 0, 'fragmento_id': 'f10f9473cf9181899a192a66d8916160'}\n",
      "\n",
      "Metadados do fragmento 2:\n",
      "{'source': 'base-conhecimento/funcionarios/Alex Chen.md', 'doc_type': 'funcionarios', 'file_name': 'Alex Chen.md', 'start_index': 986, 'fragmento_id': 'b10faf77382b919d34f21c9a6cfd1d5b'}\n"
     ]
    }
   ],
   "source": [
    "import hashlib\n",
    "from langchain.text_splitter import CharacterTextSplitter\n",
    "\n",
    "text_splitter = CharacterTextSplitter(\n",
    "    chunk_size=1000,          # tamanho de cada fragmento em caracteres\n",
    "    chunk_overlap=200,        # sobreposição entre fragmentos para manter contexto\n",
    "    add_start_index=True      # mantém a ordem (útil para rastrear contexto)\n",
    ")\n",
    "\n",
    "# Gerar fragmentos\n",
    "fragmentos = text_splitter.split_documents(documents)\n",
    "\n",
    "print(f\"{len(documents)} documentos divididos em {len(fragmentos)} fragmentos.\")\n",
    "\n",
    "# 🧠 Gerar identificador único (hash) para cada fragmento\n",
    "def gerar_id_fragmento(texto):\n",
    "    \"\"\"Cria um ID único (MD5) com base no conteúdo do fragmento.\"\"\"\n",
    "    return hashlib.md5(texto.encode(\"utf-8\")).hexdigest()\n",
    "\n",
    "for fragmento in fragmentos:\n",
    "    fragmento.metadata[\"fragmento_id\"] = gerar_id_fragmento(fragmento.page_content)\n",
    "    if not fragmento.page_content.strip():\n",
    "        print(f\"⚠️ Fragmento vazio em: {fragmento.metadata['file_name']}\")\n",
    "\n",
    "# 🧩 Exibir exemplo de metadados\n",
    "for i, fragmento in enumerate(fragmentos[:2]):\n",
    "    print(f\"\\nMetadados do fragmento {i+1}:\")\n",
    "    print(fragmento.metadata)"
   ]
  },
  {
   "cell_type": "code",
   "execution_count": 6,
   "id": "1faa604c-ddd9-4475-aaff-f4456629d77d",
   "metadata": {},
   "outputs": [
    {
     "name": "stdout",
     "output_type": "stream",
     "text": [
      "✅ Nenhum fragmento duplicado encontrado.\n"
     ]
    }
   ],
   "source": [
    "fragmento_ids = [fragmento.metadata[\"fragmento_id\"] for fragmento in fragmentos]\n",
    "ids_duplicados = [fid for fid in fragmento_ids if fragmento_ids.count(fid) > 1]\n",
    "\n",
    "if ids_duplicados:\n",
    "    print(f\"⚠️ IDs de fragmentos duplicados encontrados: {ids_duplicados}\")\n",
    "else:\n",
    "    print(\"✅ Nenhum fragmento duplicado encontrado.\")"
   ]
  },
  {
   "cell_type": "markdown",
   "id": "d73f6bee-5df5-422a-a03f-e117a858370b",
   "metadata": {},
   "source": [
    "## 🧠 Embeddings dos Fragmentos\n",
    "\n",
    "- Aqui o código cria uma “ferramenta de tradução” que transforma os textos em números (vetores).\n",
    "- Esses vetores são a forma como a IA entende o significado dos textos, permitindo comparar e buscar informações parecidas."
   ]
  },
  {
   "cell_type": "code",
   "execution_count": 7,
   "id": "a0135e85-6e0b-45a4-ab0d-b9fec56b63ac",
   "metadata": {},
   "outputs": [
    {
     "name": "stdout",
     "output_type": "stream",
     "text": [
      "✅ Função de embeddings criada com sucesso.\n"
     ]
    }
   ],
   "source": [
    "from langchain_openai import OpenAIEmbeddings\n",
    "\n",
    "# Criar função de embedding (por padrão usa o modelo multilíngue text-embedding-ada-002)\n",
    "embedding_function = OpenAIEmbeddings()\n",
    "\n",
    "print(\"✅ Função de embeddings criada com sucesso.\")"
   ]
  },
  {
   "cell_type": "markdown",
   "id": "dbdb70eb-9902-4065-92b7-c72c2b8e15f7",
   "metadata": {},
   "source": [
    "## 💾 Salvar fragmentos com embeddings no banco de dados Chroma\n",
    "\n",
    "- Este bloco cria (ou atualiza) um banco de dados especial chamado Chroma DB.\n",
    "- Nesse banco, cada fragmento é guardado com seu significado (vetor).\n",
    "- Antes de recriar tudo, o código confere se já existe um banco igual — assim economiza tempo e processamento."
   ]
  },
  {
   "cell_type": "code",
   "execution_count": 10,
   "id": "093959f0-6826-4594-9338-598094e24923",
   "metadata": {},
   "outputs": [
    {
     "name": "stdout",
     "output_type": "stream",
     "text": [
      "✅ Chroma DB está atualizado. Pulando regeneração.\n"
     ]
    }
   ],
   "source": [
    "import os\n",
    "from langchain_chroma import Chroma\n",
    "\n",
    "# Criar diretório do Chroma se não existir\n",
    "os.makedirs(CHROMA_PATH, exist_ok=True)\n",
    "\n",
    "def obter_ids_fragmentos_existentes(db_path):\n",
    "    \"\"\"Carrega os IDs dos fragmentos já armazenados no Chroma DB.\"\"\"\n",
    "    try:\n",
    "        db_existente = Chroma(persist_directory=db_path)\n",
    "        resultados = db_existente._collection.get(include=[\"metadatas\"])\n",
    "        return set(\n",
    "            m[\"fragmento_id\"] for m in resultados[\"metadatas\"]\n",
    "            if isinstance(m, dict) and \"fragmento_id\" in m\n",
    "        )\n",
    "    except Exception as e:\n",
    "        print(\"❌ Erro ao carregar IDs de fragmentos existentes:\", e)\n",
    "        return set()\n",
    "\n",
    "# Obter IDs dos fragmentos atuais\n",
    "novos_ids_fragmentos = set([f.metadata[\"fragmento_id\"] for f in fragmentos])\n",
    "\n",
    "# Obter IDs de fragmentos existentes no Chroma\n",
    "fragmentos_existentes_ids = obter_ids_fragmentos_existentes(CHROMA_PATH)\n",
    "\n",
    "# Comparar e atualizar\n",
    "if novos_ids_fragmentos != fragmentos_existentes_ids:\n",
    "    print(\"🧩 Mudanças nos fragmentos detectadas. Reconstruindo Chroma DB...\")\n",
    "    db = Chroma.from_documents(\n",
    "        documents=fragmentos,\n",
    "        embedding=embedding_function,\n",
    "        persist_directory=CHROMA_PATH\n",
    "    )\n",
    "    print(f\"✅ {len(fragmentos)} fragmentos salvos em {CHROMA_PATH}.\")\n",
    "else:\n",
    "    db = Chroma(persist_directory=CHROMA_PATH, embedding_function=embedding_function)\n",
    "    print(\"✅ Chroma DB está atualizado. Pulando regeneração.\")"
   ]
  },
  {
   "cell_type": "markdown",
   "id": "670b049a-0eca-41c1-a5a8-8ed4561168b2",
   "metadata": {},
   "source": [
    "## 📊 Visualizando o Vector Store\n",
    "\n",
    "- Este bloco pega os dados guardados no banco e organiza para fazer gráficos.\n",
    "- Cada ponto representa um pedaço de texto (fragmento) e a cor mostra o tipo de documento de onde veio — por exemplo, contratos, produtos, etc."
   ]
  },
  {
   "cell_type": "code",
   "execution_count": 13,
   "id": "1179ca76-2502-4bea-a4d8-4cbe149e92fa",
   "metadata": {},
   "outputs": [
    {
     "name": "stdout",
     "output_type": "stream",
     "text": [
      "✅ Extraídos 106 documentos e 106 embeddings do Chroma DB.\n"
     ]
    }
   ],
   "source": [
    "import numpy as np\n",
    "\n",
    "collection = db._collection\n",
    "result = collection.get(include=['embeddings', 'documents', 'metadatas'])\n",
    "\n",
    "# Extrair embeddings, documentos e metadados\n",
    "vectors = np.array(result['embeddings'])\n",
    "documents = result['documents']\n",
    "metadatas = result['metadatas']\n",
    "\n",
    "\n",
    "# Lista de cores e mapeamento por tipo\n",
    "color_map = {\n",
    "    \"produtos\": \"blue\",\n",
    "    \"funcionarios\": \"yellow\",\n",
    "    \"contratos\": \"red\",\n",
    "    \"empresa\": \"cyan\"\n",
    "}\n",
    "\n",
    "# Extrair o tipo de documento de forma segura\n",
    "doc_types = [meta.get(\"doc_type\", \"unknown\") for meta in metadatas]\n",
    "\n",
    "# Definir cor (default = cinza se tipo não for reconhecido)\n",
    "colors = [color_map.get(t, \"gray\") for t in doc_types]\n",
    "\n",
    "print(f\"✅ Extraídos {len(documents)} documentos e {len(vectors)} embeddings do Chroma DB.\")"
   ]
  },
  {
   "cell_type": "code",
   "execution_count": 14,
   "id": "c18bd18c-0b6c-4206-b2d0-a1bb59b3d39e",
   "metadata": {},
   "outputs": [
    {
     "data": {
      "image/png": "[encoded data removed]",
      "text/plain": [
       "<Figure size 1000x700 with 1 Axes>"
      ]
     },
     "metadata": {},
     "output_type": "display_data"
    }
   ],
   "source": [
    "# Nós, humanos, achamos mais fácil visualizar coisas em 2D!\n",
    "# Reduzir a dimensionalidade dos vetores para 2D usando t-SNE\n",
    "# (t-distributed stochastic neighbor embedding)\n",
    "\n",
    "import matplotlib.pyplot as plt\n",
    "from sklearn.manifold import TSNE\n",
    "\n",
    "# Reduzir dimensões para 2D\n",
    "tsne = TSNE(n_components=2, perplexity=30, random_state=42)\n",
    "vectors_2d = tsne.fit_transform(vectors)\n",
    "\n",
    "# Plotar\n",
    "plt.style.use('dark_background')  # fundo preto\n",
    "\n",
    "plt.figure(figsize=(10, 7))\n",
    "for t in set(doc_types):\n",
    "    idx = [i for i, dt in enumerate(doc_types) if dt == t]\n",
    "    plt.scatter(vectors_2d[idx, 0], vectors_2d[idx, 1], \n",
    "                label=t, \n",
    "                c=color_map.get(t, \"gray\"), \n",
    "                alpha=0.8, \n",
    "                s=50,\n",
    "                edgecolors='w')  # borda branca para destacar pontos\n",
    "\n",
    "plt.title(\"Visualização 2D dos embeddings do Chroma DB\", color='white')\n",
    "plt.legend()\n",
    "plt.show()"
   ]
  },
  {
   "cell_type": "code",
   "execution_count": 15,
   "id": "71364356-7edb-4e72-a7ba-f6284d4a998d",
   "metadata": {},
   "outputs": [
    {
     "data": {
      "application/vnd.plotly.v1+json": {
       "config": {
        "plotlyServerURL": "https://plot.ly"
       },
       "data": [
        {
         "hoverinfo": "text",
         "marker": {
          "color": [
           "yellow",
           "yellow",
           "yellow",
           "yellow",
           "yellow",
           "yellow",
           "yellow",
           "yellow",
           "yellow",
           "yellow",
           "yellow",
           "yellow",
           "yellow",
           "yellow",
           "yellow",
           "yellow",
           "yellow",
           "yellow",
           "yellow",
           "yellow",
           "yellow",
           "yellow",
           "yellow",
           "yellow",
           "yellow",
           "yellow",
           "yellow",
           "yellow",
           "yellow",
           "yellow",
           "yellow",
           "yellow",
           "yellow",
           "yellow",
           "yellow",
           "yellow",
           "yellow",
           "yellow",
           "yellow",
           "yellow",
           "yellow",
           "yellow",
           "yellow",
           "yellow",
           "yellow",
           "yellow",
           "yellow",
           "cyan",
           "cyan",
           "cyan",
           "red",
           "red",
           "red",
           "red",
           "red",
           "red",
           "red",
           "red",
           "red",
           "red",
           "red",
           "red",
           "red",
           "red",
           "red",
           "red",
           "red",
           "red",
           "red",
           "red",
           "red",
           "red",
           "red",
           "red",
           "red",
           "red",
           "red",
           "red",
           "red",
           "red",
           "red",
           "red",
           "red",
           "blue",
           "blue",
           "blue",
           "blue",
           "blue",
           "blue",
           "blue",
           "blue",
           "blue",
           "blue",
           "blue",
           "blue",
           "blue",
           "blue",
           "blue",
           "blue",
           "blue",
           "blue",
           "blue",
           "blue",
           "blue",
           "blue",
           "blue"
          ],
          "opacity": 0.8,
          "size": 8
         },
         "mode": "markers",
         "text": [
          "Tipo: funcionarios<br>Texto: # Registro de RH\n\n# Alex Chen\n\n## Resumo\n- **Data de Nascimento:** 15 de março de 1990  \n- **Cargo:*...",
          "Tipo: funcionarios<br>Texto: - **2021:**  \n  - Alcançou 95% de sucesso nos prazos de entrega dos projetos.  \n  - Recebeu o prêmio...",
          "Tipo: funcionarios<br>Texto: ## Histórico de Remuneração\n- **2020:** Salário Base: $80.000  \n- **2021:** Salário Base aumentado p...",
          "Tipo: funcionarios<br>Texto: Alex Chen continua sendo um recurso vital na SegurosLLM, contribuindo significativamente para soluçõ...",
          "Tipo: funcionarios<br>Texto: # HR Record\n\n# Oliver Spencer\n\n## Resumo\n- **Data de Nascimento:** 14 de maio de 1990  \n- **Cargo:**...",
          "Tipo: funcionarios<br>Texto: ## Histórico Anual de Desempenho\n- **2018:** 3/5 - Colaborador adaptável, mas ainda aprendendo a tom...",
          "Tipo: funcionarios<br>Texto: ## Histórico de Remuneração\n- **03/2018:** Salário inicial de $80,000  \n- **07/2019:** Aumento para ...",
          "Tipo: funcionarios<br>Texto: # HR Record\n\n# Emily Tran\n\n## Resumo\n- **Data de Nascimento:** 18 de março de 1991  \n- **Cargo:** Di...",
          "Tipo: funcionarios<br>Texto: - **Janeiro 2017 - Maio 2018**: Marketing Intern  \n  - Suporte à equipe de Marketing colaborando na ...",
          "Tipo: funcionarios<br>Texto: - **2021**:  \n  - Avaliação de Desempenho: Atendeu às Expectativas  \n  - Principais Realizações: Con...",
          "Tipo: funcionarios<br>Texto: - **Hobbies**:  \n  - Emily gosta de fotografia e contribui regularmente para o conteúdo das redes so...",
          "Tipo: funcionarios<br>Texto: # HR Record\n\n# Jordan Blake\n\n## Resumo\n- **Data de Nascimento:** 15 de março de 1993  \n- **Cargo:** ...",
          "Tipo: funcionarios<br>Texto: ## Histórico Anual de Desempenho\n- **2021:** Primeiro ano na Insurellm; atingiu 90% das metas mensai...",
          "Tipo: funcionarios<br>Texto: ## Histórico de Remuneração\n- **06/2021:** Salário Inicial: $50,000  \n- **04/2022:** Aumento por mér...",
          "Tipo: funcionarios<br>Texto: # Avery Lancaster\n\n## Resumo\n- **Data de Nascimento**: 15 de março de 1985  \n- **Cargo**: Co-Fundado...",
          "Tipo: funcionarios<br>Texto: - **2010 - 2013**: Analista de Negócios na Edge Analytics  \n  Antes de ingressar na Innovate, Avery ...",
          "Tipo: funcionarios<br>Texto: - **2018**: **Superou as Expectativas**  \n  Sob a visão ajustada de Avery, a Insurellm lançou dois n...",
          "Tipo: funcionarios<br>Texto: - **2021**: **Excepcional**  \n  A transição decisiva para o trabalho remoto e a rápida adoção de fer...",
          "Tipo: funcionarios<br>Texto: ## Histórico de Remuneração\n- **2015**: Salário base $150.000 + participação significativa em ações ...",
          "Tipo: funcionarios<br>Texto: ## Outras Observações de RH\n- **Desenvolvimento Profissional**: Avery participou ativamente de progr...",
          "Tipo: funcionarios<br>Texto: Avery Lancaster demonstrou resiliência e adaptabilidade ao longo de sua carreira na Insurellm, posic...",
          "Tipo: funcionarios<br>Texto: # HR Record\n\n# Maxine Thompson\n\n## Resumo\n- **Data de Nascimento:** 15 de janeiro de 1991  \n- **Carg...",
          "Tipo: funcionarios<br>Texto: - **01/2021 - Presente:** **Senior Data Engineer**  \n  * Promovida após liderar um projeto que melho...",
          "Tipo: funcionarios<br>Texto: - **2020:** *Meets Expectations*  \n  Recuperou estabilidade, focando em habilidades técnicas, porém ...",
          "Tipo: funcionarios<br>Texto: ## Outras Observações de RH\n- Participou de treinamentos internos relacionados a big data e infraest...",
          "Tipo: funcionarios<br>Texto: # Registro de RH\n\n# Samantha Greene\n\n## Resumo\n- **Data de Nascimento:** 14 de outubro de 1990  \n- *...",
          "Tipo: funcionarios<br>Texto: ## Histórico Anual de Desempenho\n- **2020:** Superou as Expectativas  \n  - Demonstrou habilidades or...",
          "Tipo: funcionarios<br>Texto: ## Histórico de Remuneração\n- **2020:** Salário Base - $55.000  \n  - Salário inicial compatível com ...",
          "Tipo: funcionarios<br>Texto: - **2023:** Salário Base - $70.000  \n  - Reconhecida por melhoria significativa na gestão de relaçõe...",
          "Tipo: funcionarios<br>Texto: # HR Record\n\n# Alex Thomson\n\n## Resumo\n- **Data de Nascimento:** 15 de março de 1995  \n- **Cargo:** ...",
          "Tipo: funcionarios<br>Texto: ## Histórico Anual de Desempenho  \n- **2022** - Avaliado como \"Superou as Expectativas.\" Alex Thomso...",
          "Tipo: funcionarios<br>Texto: ## Outras Observações de RH\n- Alex Thomson é membro ativo do comitê de Diversidade e Inclusão da Ins...",
          "Tipo: funcionarios<br>Texto: # Registro de RH\n\n# Samuel Trenton\n\n## Resumo\n- **Data de Nascimento:** 12 de abril de 1989  \n- **Ca...",
          "Tipo: funcionarios<br>Texto: ## Histórico Anual de Desempenho\n- **2023:** Nota: 4,5/5  \n  - Superou as expectativas, liderando um...",
          "Tipo: funcionarios<br>Texto: ## Outras Observações de RH\n- **Desenvolvimento Profissional:** Concluiu workshops sobre aprendizado...",
          "Tipo: funcionarios<br>Texto: # Registro de RH\n\n# Alex Harper\n\n## Resumo\n- **Data de Nascimento**: 15 de março de 1993  \n- **Cargo...",
          "Tipo: funcionarios<br>Texto: ## Histórico Anual de Performance  \n- **2021**:  \n  - **Avaliação de Performance**: 4,5/5  \n  - **Pr...",
          "Tipo: funcionarios<br>Texto: ## Histórico de Remuneração  \n- **2021**:  \n  - **Salário Base**: $55.000  \n  - **Bônus**: $5.500 (1...",
          "Tipo: funcionarios<br>Texto: - **Feedback do RH**:  \n  - Alex Harper é reconhecido pelo excelente comprometimento, atitude positi...",
          "Tipo: funcionarios<br>Texto: # HR Record\n\n# Jordan K. Bishop\n\n## Resumo\n- **Data de Nascimento:** 15 de março de 1990  \n- **Cargo...",
          "Tipo: funcionarios<br>Texto: ## Histórico Anual de Desempenho\n- **2019:** Exceeds Expectations - Entregou código de alta qualidad...",
          "Tipo: funcionarios<br>Texto: ## Histórico de Remuneração\n- **06/2018:** Salário Inicial - $85,000  \n- **06/2019:** Aumento Salari...",
          "Tipo: funcionarios<br>Texto: ## Outras Observações de RH\n- Jordan K. Bishop participou ativamente de iniciativas internas, inclui...",
          "Tipo: funcionarios<br>Texto: # Registro de RH\n\n# Emily Carter\n\n## Resumo\n- **Data de Nascimento:** 12 de agosto de 1990  \n- **Car...",
          "Tipo: funcionarios<br>Texto: - **2017-2019:** Estagiária de Marketing  \n  - Auxílio em pesquisas de mercado e desenvolvimento de ...",
          "Tipo: funcionarios<br>Texto: ## Histórico de Remuneração\n| Ano  | Salário Base | Bônus          | Remuneração Total |\n|------|---...",
          "Tipo: funcionarios<br>Texto: ## Outras Observações de RH\n- **Desenvolvimento Profissional:** Emily está atualmente inscrita em um...",
          "Tipo: empresa<br>Texto: # Carreiras na SegurosLLM\n\nA SegurosLLM está contratando! Estamos em busca de talentosos engenheiros...",
          "Tipo: empresa<br>Texto: # Sobre a SegurosLLM\n\nA SegurosLLM foi fundada por Avery Lancaster em 2015 como uma startup de tecno...",
          "Tipo: empresa<br>Texto: # Visão geral da SegurosLLM\n\nA SegurosLLM é uma empresa inovadora de tecnologia em seguros, com 200 ...",
          "Tipo: contratos<br>Texto: # Contrato com a Belvedere Insurance para Markellm\n\n## Termos\nEste Contrato (\"Acordo\") é celebrado e...",
          "Tipo: contratos<br>Texto: ## Renovação\n1. **Condições de Renovação**: Este Acordo poderá ser renovado por termos adicionais de...",
          "Tipo: contratos<br>Texto: ## Funcionalidades\n1. **Correspondência com IA**: A Belvedere Insurance se beneficiará do sistema de...",
          "Tipo: contratos<br>Texto: ## Suporte\n1. **Suporte Técnico**: Suporte técnico disponível das 9h às 19h EST, de segunda a sexta-...",
          "Tipo: contratos<br>Texto: **Belvedere Insurance**  \nAssinatura: ______________________  \nNome: [Signatário Autorizado]  \nCargo...",
          "Tipo: contratos<br>Texto: # Contrato com a Velocity Auto Solutions para Carllm\n\n**Data do Contrato:** 1 de outubro de 2023  \n*...",
          "Tipo: contratos<br>Texto: ## Renovação\n\n1. **Renovação Automática**: Este contrato será renovado automaticamente por períodos ...",
          "Tipo: contratos<br>Texto: ## Suporte\n\n1. **Suporte ao Cliente**: A Velocity Auto Solutions terá acesso à equipe de suporte da ...",
          "Tipo: contratos<br>Texto: # Contrato com Greenstone Insurance para Homellm\n\n---\n\n## Termos\n\n1. **Partes**: Este Contrato (\"Aco...",
          "Tipo: contratos<br>Texto: 4. **Condições de Pagamento**: \n   - O Cliente pagará o valor de $10.000 por mês pelo Nível Padrão d...",
          "Tipo: contratos<br>Texto: ---\n\n## Funcionalidades\n\n- **Avaliação de Risco com IA**: O Cliente terá acesso a ferramentas aprimo...",
          "Tipo: contratos<br>Texto: - **Integração Multicanal**: Homellm será integrado às plataformas existentes do Cliente para criar ...",
          "Tipo: contratos<br>Texto: ---\n\n**ASSINATURAS DO ACORDO**\n\nAo assinar abaixo, as partes reconhecem sua aceitação dos termos des...",
          "Tipo: contratos<br>Texto: # Contrato com a Apex Reinsurance para Rellm: Solução Corporativa de Resseguros com IA\n\n## Termos\n\n1...",
          "Tipo: contratos<br>Texto: 4. **Duração do Contrato**: Este Acordo terá início em [Data de Início] e permanecerá em vigor por d...",
          "Tipo: contratos<br>Texto: 2. **Integrações Simplificadas**: A arquitetura do Rellm permite integração fácil com os sistemas ex...",
          "Tipo: contratos<br>Texto: 1. **Suporte Técnico**: O Fornecedor fornecerá suporte técnico dedicado ao Cliente via telefone, e-m...",
          "Tipo: contratos<br>Texto: ---\n\n**Aceitação dos Termos**: Ao assinar abaixo, ambas as partes concordam com os Termos, Renovação...",
          "Tipo: contratos<br>Texto: # Contrato com GreenField Holdings para Markellm\n\n**Data de Vigência:** 15 de novembro de 2023  \n**D...",
          "Tipo: contratos<br>Texto: ## Renovação\n1. **Renovação Automática**: Este contrato será renovado automaticamente por períodos c...",
          "Tipo: contratos<br>Texto: ## Funcionalidades\n1. **Correspondência com IA**: Acesso a algoritmos avançados que conectam a Green...",
          "Tipo: contratos<br>Texto: ## Suporte\n1. **Acesso ao Suporte ao Cliente**: O Cliente terá acesso a suporte dedicado por telefon...",
          "Tipo: contratos<br>Texto: **Assinaturas:**  \n_________________________                           _________________________  \n*...",
          "Tipo: contratos<br>Texto: # Contrato com a BrightWay Solutions para Markellm\n\n**Data do Contrato:** 5 de outubro de 2023  \n**I...",
          "Tipo: contratos<br>Texto: 3. **Acordo de Nível de Serviço (SLA):**  \n   A SegurosLLM compromete-se a garantir 99,9% de disponi...",
          "Tipo: contratos<br>Texto: 2. **Disponibilidade de Cotação em Tempo Real:**  \n   Os consumidores obtidos via BrightWay Solution...",
          "Tipo: contratos<br>Texto: ### Suporte\n1. **Suporte ao Cliente Dedicado:**  \n   A BrightWay Solutions terá acesso a uma equipe ...",
          "Tipo: contratos<br>Texto: __________________________  \n**[Nome], [Cargo]**  \n**BrightWay Solutions**  \nData: _________________...",
          "Tipo: contratos<br>Texto: # Contrato com a EverGuard Insurance para Rellm: Solução Empresarial de Resseguro com IA\n\n**Número d...",
          "Tipo: contratos<br>Texto: 4. **Direitos de Uso**: A EverGuard Insurance recebe uma licença não exclusiva e intransferível para...",
          "Tipo: contratos<br>Texto: 2. **Painel Personalizável**: Os usuários da EverGuard Insurance terão acesso a um painel personaliz...",
          "Tipo: contratos<br>Texto: 1. **Suporte ao Cliente**: A SegurosLLM fornecerá à EverGuard Insurance suporte 24/7, incluindo chat...",
          "Tipo: contratos<br>Texto: 4. **Mecanismos de Feedback**: A EverGuard Insurance é incentivada a fornecer feedback sobre as func...",
          "Tipo: produtos<br>Texto: # Resumo do Produto\n\n# Rellm: Solução Empresarial de Resseguro com IA\n\n## Resumo\nRellm é um produto ...",
          "Tipo: produtos<br>Texto: ### Integrações Sem Esforço\nA arquitetura do Rellm é projetada para integração fácil com sistemas ex...",
          "Tipo: produtos<br>Texto: ### Ferramentas de Conformidade Regulamentar\nRellm inclui recursos integrados de acompanhamento de c...",
          "Tipo: produtos<br>Texto: ## Preços\n\nA Insurellm oferece planos de preços flexíveis para Rellm, atendendo a diferentes necessi...",
          "Tipo: produtos<br>Texto: - **Q3 2025**: \n  - Lançamento do aplicativo móvel Rellm para insights e gerenciamento em qualquer l...",
          "Tipo: produtos<br>Texto: # Resumo do Produto\n\n# Markellm\n\n## Resumo\nMarkellm é um marketplace inovador de duas pontas, projet...",
          "Tipo: produtos<br>Texto: ## Funcionalidades\n\n- **Correspondência com IA**: Markellm utiliza algoritmos sofisticados de IA par...",
          "Tipo: produtos<br>Texto: - **Transações Seguras**: Markellm prioriza a segurança, utilizando métodos robustos de criptografia...",
          "Tipo: produtos<br>Texto: ### Para Consumidores:\n- **Assinatura Gratuita**: Acesso ao marketplace sem custo, permitindo navega...",
          "Tipo: produtos<br>Texto: ### Q2 2025\n- Expansão do marketplace para incluir produtos adicionais de seguro, como seguro de vid...",
          "Tipo: produtos<br>Texto: Markellm está comprometido em melhorar a experiência de seguros para consumidores e fornecedores. Ao...",
          "Tipo: produtos<br>Texto: # Resumo do Produto\n\n# Homellm\n\n## Resumo\nHomellm é um produto inovador de seguro residencial desenv...",
          "Tipo: produtos<br>Texto: ## Funcionalidades\n### 1. Avaliação de Risco com IA\nHomellm utiliza algoritmos sofisticados de IA pa...",
          "Tipo: produtos<br>Texto: ### 3. Processamento Instantâneo de Sinistros\nO sistema de gerenciamento de sinistros baseado em IA ...",
          "Tipo: produtos<br>Texto: ### 6. Portal do Cliente\nUm portal online e aplicativo móvel de fácil utilização permite que os clie...",
          "Tipo: produtos<br>Texto: Todos os níveis incluem um programa de treinamento completo e atualizações contínuas para garantir d...",
          "Tipo: produtos<br>Texto: Com o Homellm, a Insurellm está comprometida em transformar o cenário de seguros residenciais, garan...",
          "Tipo: produtos<br>Texto: # Resumo do Produto\n\n# Carllm\n\n## Resumo\n\nCarllm é um produto inovador de seguro de automóveis desen...",
          "Tipo: produtos<br>Texto: - **Cotação Instantânea**: Com Carllm, as seguradoras podem oferecer cotações quase instantâneas aos...",
          "Tipo: produtos<br>Texto: - **Integração Móvel**: Carllm foi projetado para funcionar perfeitamente com aplicativos móveis, of...",
          "Tipo: produtos<br>Texto: - **Nível Profissional**: $2.500/mês\n  - Para empresas de médio porte.\n  - Todas as funcionalidades ...",
          "Tipo: produtos<br>Texto: ### Q2 2025: Melhorias na Experiência do Cliente\n- Lançamento de um novo **aplicativo móvel** para u...",
          "Tipo: produtos<br>Texto: Carllm não é apenas um produto de seguro de automóveis; é uma ferramenta transformadora para o setor..."
         ],
         "type": "scatter3d",
         "x": {
          "bdata": "VVOrwnjrtcLy/IDC9q6/QIhbo8Ii62jCC1Orwn3KJsJN8j3C7dm8wm8wlcEBbJbBqY0ywvFFCkPLRhzCag/EwX6nIsLVhZLBw/rrwpf9DMIe77nBDDFkwnCxp8GwOKzCyWyGwnQOvsLgJ6HCvgitwoHaoMKRx0nC3UJVwlYDVsLIXc3CyIJqwfue1MF+RNfBm2Crwqu5JcKdYV3C2DXoQiKEbsIe2tjCgnipwiJqjsIg7K7CupX5wj6bJsJvpqjAz2tHQWmU/0D3iNZC3Z0zQTI+N0LswhzCDeXdQTAMCsFEIzNBgCFJwCnXdkJ2Nh4+Q9BpQlaCjkIaxhBC1L++QndsAUJnDvLA6fmwQrL9/kG2R51BnOKRQVL8vkGkmJFCWOCwQHAPPkLuzQRCKq5MQi+D1kHMAKZAXPLeQYHM4EGqSnBCQWJkQsZaP0LjmsxCcN6YQkS3t0Lpg29CBd9fwUcAMELdCSZCoO8UQubuYEJq6tdAMRNQQUoVmUJRFTFCGOKEQl6Jv0Jn0x5CfR9rQg8coELb03xCAZidQqyVTkH7ZxXBNx/QQg==",
          "dtype": "f4"
         },
         "y": {
          "bdata": "KDclwno8Y0LjYRVCHO9CQrgbisKAw1ZC18v6QePCW8EJz5jBPd4yQuhGJcAnPK9Cz3/kwXLMqsCLrJvCEFhYvuy1zcJe/0lChwM2QQ4Yr0GbbAhCb3E0wtxMfMFWSwXCyqGAQS3krsEMqyNCezpEQaILM8INlwDCpTecQuYeUMFdq8DBV8rawh2DmkHO26lCP5GWQsotScIevGXA+AWSQi5Ec0LCnWBA6MN2P/WZrMAtF55CmeEFQmyfX0E7wInCKtMdQeA/KMEnNoNARinQQsy8cr9zYpDCcWwlwlNZY8KZ9IvCeIAkwpBJi8LRobvC9ibBwVziG8KR1orCX0SQwLgBukKLJlBCkj2IwWmEL8Lej4NCO/bWwrk7JcHV/QXBKDgWwkpG00Fcd0DCRDAlv/kgjsFyVTjCKNIGQf4R5UEjoTZCwfiQQU90CkK5jI7C5I1yQjKbAUIU5bbCPJBKQow9UkI/s+RBGa5JQrwigUIaiLhBC2FWQk4aeMKqbJjB5xA4wv+dN8Ker6fCJzIxwrqowkHgTEBBHduBwUJ1A8D2n5lBoa4hQg==",
          "dtype": "f4"
         },
         "z": {
          "bdata": "rVTJwS1KNUJ09E7CWpltQrH1ST8rlYfAJJOTwprZQkDPIQVCv0XawVnOk8HOWhxCgXh9Qg9xvL/fdVPAjO9RQj983kGSXbPBGTDkwWGwyUFWSmVCglOwPzmUjcKUAo7CScMzQmV70EFnCWxBXcEpwoesMUJcLfLBvzsywmQOT8ItXQTApOQYwmOCTsKgMdy9pFkKwrElq8IxsrLCsYR/QGmu10G7n4fCV6uSQoTL4r+azRVAOS1LwqDlhcHUAvnBF/wnQj/fyUF2RWRCu/kFwtOFgEHsQzPCFsyjwhM31UHTgedAjBOWv/k0sEFMUUlCar2tQvFrq8B/CTVCKZb4v5pjccC6faPCwbkZwjkE70HOZlzCsD2sQfrJxUK7WrPCPwZDwmeZoELmbijBkV+FwVFplcHFQYhCmxV4wsoOHMIofTLCZfxOwlCTlcKxKlLBKFciwILMlsE/+WvBs9DEQvyF60FkAo5B0Z+IwAKadkLVg1A/4PeZQcywIcJItIFCx7GHQqon1EH9KmPCu8tJwpIn1kHedTdCF+wEQr4ex8KnE8lCezt4wg==",
          "dtype": "f4"
         }
        }
       ],
       "layout": {
        "font": {
         "color": "white"
        },
        "height": 700,
        "margin": {
         "b": 10,
         "l": 10,
         "r": 20,
         "t": 40
        },
        "paper_bgcolor": "black",
        "plot_bgcolor": "black",
        "scene": {
         "xaxis": {
          "backgroundcolor": "black",
          "color": "white",
          "showbackground": true
         },
         "yaxis": {
          "backgroundcolor": "black",
          "color": "white",
          "showbackground": true
         },
         "zaxis": {
          "backgroundcolor": "black",
          "color": "white",
          "showbackground": true
         }
        },
        "template": {
         "data": {
          "bar": [
           {
            "error_x": {
             "color": "#2a3f5f"
            },
            "error_y": {
             "color": "#2a3f5f"
            },
            "marker": {
             "line": {
              "color": "#E5ECF6",
              "width": 0.5
             },
             "pattern": {
              "fillmode": "overlay",
              "size": 10,
              "solidity": 0.2
             }
            },
            "type": "bar"
           }
          ],
          "barpolar": [
           {
            "marker": {
             "line": {
              "color": "#E5ECF6",
              "width": 0.5
             },
             "pattern": {
              "fillmode": "overlay",
              "size": 10,
              "solidity": 0.2
             }
            },
            "type": "barpolar"
           }
          ],
          "carpet": [
           {
            "aaxis": {
             "endlinecolor": "#2a3f5f",
             "gridcolor": "white",
             "linecolor": "white",
             "minorgridcolor": "white",
             "startlinecolor": "#2a3f5f"
            },
            "baxis": {
             "endlinecolor": "#2a3f5f",
             "gridcolor": "white",
             "linecolor": "white",
             "minorgridcolor": "white",
             "startlinecolor": "#2a3f5f"
            },
            "type": "carpet"
           }
          ],
          "choropleth": [
           {
            "colorbar": {
             "outlinewidth": 0,
             "ticks": ""
            },
            "type": "choropleth"
           }
          ],
          "contour": [
           {
            "colorbar": {
             "outlinewidth": 0,
             "ticks": ""
            },
            "colorscale": [
             [
              0,
              "#0d0887"
             ],
             [
              0.1111111111111111,
              "#46039f"
             ],
             [
              0.2222222222222222,
              "#7201a8"
             ],
             [
              0.3333333333333333,
              "#9c179e"
             ],
             [
              0.4444444444444444,
              "#bd3786"
             ],
             [
              0.5555555555555556,
              "#d8576b"
             ],
             [
              0.6666666666666666,
              "#ed7953"
             ],
             [
              0.7777777777777778,
              "#fb9f3a"
             ],
             [
              0.8888888888888888,
              "#fdca26"
             ],
             [
              1,
              "#f0f921"
             ]
            ],
            "type": "contour"
           }
          ],
          "contourcarpet": [
           {
            "colorbar": {
             "outlinewidth": 0,
             "ticks": ""
            },
            "type": "contourcarpet"
           }
          ],
          "heatmap": [
           {
            "colorbar": {
             "outlinewidth": 0,
             "ticks": ""
            },
            "colorscale": [
             [
              0,
              "#0d0887"
             ],
             [
              0.1111111111111111,
              "#46039f"
             ],
             [
              0.2222222222222222,
              "#7201a8"
             ],
             [
              0.3333333333333333,
              "#9c179e"
             ],
             [
              0.4444444444444444,
              "#bd3786"
             ],
             [
              0.5555555555555556,
              "#d8576b"
             ],
             [
              0.6666666666666666,
              "#ed7953"
             ],
             [
              0.7777777777777778,
              "#fb9f3a"
             ],
             [
              0.8888888888888888,
              "#fdca26"
             ],
             [
              1,
              "#f0f921"
             ]
            ],
            "type": "heatmap"
           }
          ],
          "histogram": [
           {
            "marker": {
             "pattern": {
              "fillmode": "overlay",
              "size": 10,
              "solidity": 0.2
             }
            },
            "type": "histogram"
           }
          ],
          "histogram2d": [
           {
            "colorbar": {
             "outlinewidth": 0,
             "ticks": ""
            },
            "colorscale": [
             [
              0,
              "#0d0887"
             ],
             [
              0.1111111111111111,
              "#46039f"
             ],
             [
              0.2222222222222222,
              "#7201a8"
             ],
             [
              0.3333333333333333,
              "#9c179e"
             ],
             [
              0.4444444444444444,
              "#bd3786"
             ],
             [
              0.5555555555555556,
              "#d8576b"
             ],
             [
              0.6666666666666666,
              "#ed7953"
             ],
             [
              0.7777777777777778,
              "#fb9f3a"
             ],
             [
              0.8888888888888888,
              "#fdca26"
             ],
             [
              1,
              "#f0f921"
             ]
            ],
            "type": "histogram2d"
           }
          ],
          "histogram2dcontour": [
           {
            "colorbar": {
             "outlinewidth": 0,
             "ticks": ""
            },
            "colorscale": [
             [
              0,
              "#0d0887"
             ],
             [
              0.1111111111111111,
              "#46039f"
             ],
             [
              0.2222222222222222,
              "#7201a8"
             ],
             [
              0.3333333333333333,
              "#9c179e"
             ],
             [
              0.4444444444444444,
              "#bd3786"
             ],
             [
              0.5555555555555556,
              "#d8576b"
             ],
             [
              0.6666666666666666,
              "#ed7953"
             ],
             [
              0.7777777777777778,
              "#fb9f3a"
             ],
             [
              0.8888888888888888,
              "#fdca26"
             ],
             [
              1,
              "#f0f921"
             ]
            ],
            "type": "histogram2dcontour"
           }
          ],
          "mesh3d": [
           {
            "colorbar": {
             "outlinewidth": 0,
             "ticks": ""
            },
            "type": "mesh3d"
           }
          ],
          "parcoords": [
           {
            "line": {
             "colorbar": {
              "outlinewidth": 0,
              "ticks": ""
             }
            },
            "type": "parcoords"
           }
          ],
          "pie": [
           {
            "automargin": true,
            "type": "pie"
           }
          ],
          "scatter": [
           {
            "fillpattern": {
             "fillmode": "overlay",
             "size": 10,
             "solidity": 0.2
            },
            "type": "scatter"
           }
          ],
          "scatter3d": [
           {
            "line": {
             "colorbar": {
              "outlinewidth": 0,
              "ticks": ""
             }
            },
            "marker": {
             "colorbar": {
              "outlinewidth": 0,
              "ticks": ""
             }
            },
            "type": "scatter3d"
           }
          ],
          "scattercarpet": [
           {
            "marker": {
             "colorbar": {
              "outlinewidth": 0,
              "ticks": ""
             }
            },
            "type": "scattercarpet"
           }
          ],
          "scattergeo": [
           {
            "marker": {
             "colorbar": {
              "outlinewidth": 0,
              "ticks": ""
             }
            },
            "type": "scattergeo"
           }
          ],
          "scattergl": [
           {
            "marker": {
             "colorbar": {
              "outlinewidth": 0,
              "ticks": ""
             }
            },
            "type": "scattergl"
           }
          ],
          "scattermap": [
           {
            "marker": {
             "colorbar": {
              "outlinewidth": 0,
              "ticks": ""
             }
            },
            "type": "scattermap"
           }
          ],
          "scattermapbox": [
           {
            "marker": {
             "colorbar": {
              "outlinewidth": 0,
              "ticks": ""
             }
            },
            "type": "scattermapbox"
           }
          ],
          "scatterpolar": [
           {
            "marker": {
             "colorbar": {
              "outlinewidth": 0,
              "ticks": ""
             }
            },
            "type": "scatterpolar"
           }
          ],
          "scatterpolargl": [
           {
            "marker": {
             "colorbar": {
              "outlinewidth": 0,
              "ticks": ""
             }
            },
            "type": "scatterpolargl"
           }
          ],
          "scatterternary": [
           {
            "marker": {
             "colorbar": {
              "outlinewidth": 0,
              "ticks": ""
             }
            },
            "type": "scatterternary"
           }
          ],
          "surface": [
           {
            "colorbar": {
             "outlinewidth": 0,
             "ticks": ""
            },
            "colorscale": [
             [
              0,
              "#0d0887"
             ],
             [
              0.1111111111111111,
              "#46039f"
             ],
             [
              0.2222222222222222,
              "#7201a8"
             ],
             [
              0.3333333333333333,
              "#9c179e"
             ],
             [
              0.4444444444444444,
              "#bd3786"
             ],
             [
              0.5555555555555556,
              "#d8576b"
             ],
             [
              0.6666666666666666,
              "#ed7953"
             ],
             [
              0.7777777777777778,
              "#fb9f3a"
             ],
             [
              0.8888888888888888,
              "#fdca26"
             ],
             [
              1,
              "#f0f921"
             ]
            ],
            "type": "surface"
           }
          ],
          "table": [
           {
            "cells": {
             "fill": {
              "color": "#EBF0F8"
             },
             "line": {
              "color": "white"
             }
            },
            "header": {
             "fill": {
              "color": "#C8D4E3"
             },
             "line": {
              "color": "white"
             }
            },
            "type": "table"
           }
          ]
         },
         "layout": {
          "annotationdefaults": {
           "arrowcolor": "#2a3f5f",
           "arrowhead": 0,
           "arrowwidth": 1
          },
          "autotypenumbers": "strict",
          "coloraxis": {
           "colorbar": {
            "outlinewidth": 0,
            "ticks": ""
           }
          },
          "colorscale": {
           "diverging": [
            [
             0,
             "#8e0152"
            ],
            [
             0.1,
             "#c51b7d"
            ],
            [
             0.2,
             "#de77ae"
            ],
            [
             0.3,
             "#f1b6da"
            ],
            [
             0.4,
             "#fde0ef"
            ],
            [
             0.5,
             "#f7f7f7"
            ],
            [
             0.6,
             "#e6f5d0"
            ],
            [
             0.7,
             "#b8e186"
            ],
            [
             0.8,
             "#7fbc41"
            ],
            [
             0.9,
             "#4d9221"
            ],
            [
             1,
             "#276419"
            ]
           ],
           "sequential": [
            [
             0,
             "#0d0887"
            ],
            [
             0.1111111111111111,
             "#46039f"
            ],
            [
             0.2222222222222222,
             "#7201a8"
            ],
            [
             0.3333333333333333,
             "#9c179e"
            ],
            [
             0.4444444444444444,
             "#bd3786"
            ],
            [
             0.5555555555555556,
             "#d8576b"
            ],
            [
             0.6666666666666666,
             "#ed7953"
            ],
            [
             0.7777777777777778,
             "#fb9f3a"
            ],
            [
             0.8888888888888888,
             "#fdca26"
            ],
            [
             1,
             "#f0f921"
            ]
           ],
           "sequentialminus": [
            [
             0,
             "#0d0887"
            ],
            [
             0.1111111111111111,
             "#46039f"
            ],
            [
             0.2222222222222222,
             "#7201a8"
            ],
            [
             0.3333333333333333,
             "#9c179e"
            ],
            [
             0.4444444444444444,
             "#bd3786"
            ],
            [
             0.5555555555555556,
             "#d8576b"
            ],
            [
             0.6666666666666666,
             "#ed7953"
            ],
            [
             0.7777777777777778,
             "#fb9f3a"
            ],
            [
             0.8888888888888888,
             "#fdca26"
            ],
            [
             1,
             "#f0f921"
            ]
           ]
          },
          "colorway": [
           "#636efa",
           "#EF553B",
           "#00cc96",
           "#ab63fa",
           "#FFA15A",
           "#19d3f3",
           "#FF6692",
           "#B6E880",
           "#FF97FF",
           "#FECB52"
          ],
          "font": {
           "color": "#2a3f5f"
          },
          "geo": {
           "bgcolor": "white",
           "lakecolor": "white",
           "landcolor": "#E5ECF6",
           "showlakes": true,
           "showland": true,
           "subunitcolor": "white"
          },
          "hoverlabel": {
           "align": "left"
          },
          "hovermode": "closest",
          "mapbox": {
           "style": "light"
          },
          "paper_bgcolor": "white",
          "plot_bgcolor": "#E5ECF6",
          "polar": {
           "angularaxis": {
            "gridcolor": "white",
            "linecolor": "white",
            "ticks": ""
           },
           "bgcolor": "#E5ECF6",
           "radialaxis": {
            "gridcolor": "white",
            "linecolor": "white",
            "ticks": ""
           }
          },
          "scene": {
           "xaxis": {
            "backgroundcolor": "#E5ECF6",
            "gridcolor": "white",
            "gridwidth": 2,
            "linecolor": "white",
            "showbackground": true,
            "ticks": "",
            "zerolinecolor": "white"
           },
           "yaxis": {
            "backgroundcolor": "#E5ECF6",
            "gridcolor": "white",
            "gridwidth": 2,
            "linecolor": "white",
            "showbackground": true,
            "ticks": "",
            "zerolinecolor": "white"
           },
           "zaxis": {
            "backgroundcolor": "#E5ECF6",
            "gridcolor": "white",
            "gridwidth": 2,
            "linecolor": "white",
            "showbackground": true,
            "ticks": "",
            "zerolinecolor": "white"
           }
          },
          "shapedefaults": {
           "line": {
            "color": "#2a3f5f"
           }
          },
          "ternary": {
           "aaxis": {
            "gridcolor": "white",
            "linecolor": "white",
            "ticks": ""
           },
           "baxis": {
            "gridcolor": "white",
            "linecolor": "white",
            "ticks": ""
           },
           "bgcolor": "#E5ECF6",
           "caxis": {
            "gridcolor": "white",
            "linecolor": "white",
            "ticks": ""
           }
          },
          "title": {
           "x": 0.05
          },
          "xaxis": {
           "automargin": true,
           "gridcolor": "white",
           "linecolor": "white",
           "ticks": "",
           "title": {
            "standoff": 15
           },
           "zerolinecolor": "white",
           "zerolinewidth": 2
          },
          "yaxis": {
           "automargin": true,
           "gridcolor": "white",
           "linecolor": "white",
           "ticks": "",
           "title": {
            "standoff": 15
           },
           "zerolinecolor": "white",
           "zerolinewidth": 2
          }
         }
        },
        "title": {
         "text": "Visualização 3D do Vector Store do Chroma"
        },
        "width": 900
       }
      },
      "image/png": "[encoded data removed]"
     },
     "metadata": {},
     "output_type": "display_data"
    }
   ],
   "source": [
    "# Vamos tentar 3D!\n",
    "\n",
    "tsne = TSNE(n_components=3, random_state=42)\n",
    "reduced_vectors = tsne.fit_transform(vectors)\n",
    "\n",
    "# Criar o gráfico de dispersão 3D\n",
    "fig = go.Figure(data=[go.Scatter3d(\n",
    "    x=reduced_vectors[:, 0],\n",
    "    y=reduced_vectors[:, 1],\n",
    "    z=reduced_vectors[:, 2],\n",
    "    mode='markers',\n",
    "    marker=dict(size=8, color=colors, opacity=0.8),\n",
    "    text=[f\"Tipo: {t}<br>Texto: {d[:100]}...\" for t, d in zip(doc_types, documents)],\n",
    "    hoverinfo='text'\n",
    ")])\n",
    "\n",
    "fig.update_layout(\n",
    "    title='Visualização 3D do Vector Store do Chroma',\n",
    "    plot_bgcolor='black',\n",
    "    paper_bgcolor='black',\n",
    "    font=dict(color='white'),\n",
    "    scene=dict(\n",
    "        xaxis=dict(color='white', backgroundcolor='black', showbackground=True),\n",
    "        yaxis=dict(color='white', backgroundcolor='black', showbackground=True),\n",
    "        zaxis=dict(color='white', backgroundcolor='black', showbackground=True)\n",
    "    ),\n",
    "    width=900,\n",
    "    height=700,\n",
    "    margin=dict(r=20, b=10, l=10, t=40)\n",
    ")\n",
    "\n",
    "fig.show()"
   ]
  },
  {
   "cell_type": "markdown",
   "id": "c19187ba-1ac9-400e-ae9b-684682349e8b",
   "metadata": {},
   "source": [
    "## 🔍 Consultar (query) Chroma\n",
    "\n",
    "- Este código cria um “buscador inteligente” (retriever).\n",
    "- Ele procura nos textos apenas os trechos que realmente têm a ver com a pergunta feita.\n",
    "- Cada trecho é avaliado por uma pontuação de relevância — quanto maior, mais parecido com a pergunta.\n",
    "- Além disso, o código adiciona a fonte do texto para sabermos de onde veio a informação."
   ]
  },
  {
   "cell_type": "code",
   "execution_count": 16,
   "id": "6f8d1524-c822-4303-b1a0-a3440cc90f82",
   "metadata": {},
   "outputs": [
    {
     "name": "stdout",
     "output_type": "stream",
     "text": [
      "\n",
      "📄 Scores dos documentos retornados (top 5):\n",
      "- Emily Carter.md: 0.7963\n",
      "- Samuel Trenton.md: 0.7816\n",
      "- Avery Lancaster.md: 0.7725\n",
      "- Alex Harper.md: 0.7720\n",
      "- Jordan K. Bishop.md: 0.7654\n",
      "\n",
      "📄 Scores dos documentos retornados (top 5):\n",
      "- Jordan K. Bishop.md: 0.6962\n",
      "- Samuel Trenton.md: 0.6956\n",
      "- Maxine Thompson.md: 0.6950\n",
      "- Alex Chen.md: 0.6944\n",
      "- Maxine Thompson.md: 0.6940\n"
     ]
    }
   ],
   "source": [
    "from langchain.schema import Document\n",
    "from langchain.vectorstores import Chroma\n",
    "from typing import List\n",
    "\n",
    "similarity_threshold = 0.5  # Ajuste conforme necessário\n",
    "k_results = 20              # Quantos documentos retornar\n",
    "\n",
    "# Classe customizada para filtrar por score\n",
    "class MyChromaRetriever:\n",
    "    def __init__(self, vectorstore: Chroma, k: int = 20, threshold: float = 0.2):\n",
    "        self.vectorstore = vectorstore\n",
    "        self.k = k\n",
    "        self.threshold = threshold\n",
    "\n",
    "    def get_relevant_documents(self, query: str) -> List[Document]:\n",
    "        results = self.vectorstore.similarity_search_with_relevance_scores(query, k=self.k)\n",
    "        filtered_docs = []\n",
    "        for doc, score in results:\n",
    "            doc.metadata[\"score\"] = score\n",
    "            if score >= self.threshold:\n",
    "                filtered_docs.append(doc)\n",
    "\n",
    "        # Debug: imprimir scores dos primeiros 5 documentos\n",
    "        print(\"\\n📄 Scores dos documentos retornados (top 5):\")\n",
    "        for doc in filtered_docs[:5]:\n",
    "            print(f\"- {doc.metadata.get('file_name','Desconhecido')}: {doc.metadata['score']:.4f}\")\n",
    "\n",
    "        return filtered_docs\n",
    "\n",
    "# Função para injetar metadados no conteúdo\n",
    "def inject_metadata(doc: Document) -> Document:\n",
    "    doc_type = doc.metadata.get(\"doc_type\", \"Desconhecido\")\n",
    "    file_name = doc.metadata.get(\"file_name\", \"Desconhecido\")\n",
    "    content = f\"\\n#======================================\\n[FONTE: {doc_type} - {file_name}]\\n{doc.page_content}\"\n",
    "    return Document(page_content=content, metadata=doc.metadata)\n",
    "\n",
    "# Retriever que injeta metadados\n",
    "class MetadataInjectingRetriever:\n",
    "    def __init__(self, base_retriever: MyChromaRetriever):\n",
    "        self.base_retriever = base_retriever\n",
    "\n",
    "    def get_relevant_documents(self, query: str) -> List[Document]:\n",
    "        docs = self.base_retriever.get_relevant_documents(query)\n",
    "        return [inject_metadata(doc) for doc in docs]\n",
    "\n",
    "# Configurar retriever\n",
    "retriever_base = MyChromaRetriever(vectorstore=db, k=k_results, threshold=similarity_threshold)\n",
    "retriever = MetadataInjectingRetriever(base_retriever=retriever_base)\n",
    "\n",
    "docs = retriever.get_relevant_documents(\"Maiores salários 2023\")\n",
    "docs = retriever.get_relevant_documents(\"Maior idade\")\n",
    "#for d in docs:\n",
    "#    print(d.page_content)\n",
    "\n",
    "#print(\"✅ Retriever configurado e pronto para consultas!\")"
   ]
  },
  {
   "cell_type": "markdown",
   "id": "7446b2e0-23ca-4ad5-935d-1944f29b53cf",
   "metadata": {},
   "source": [
    "## 🗣️ LLM e respostas\n",
    "\n",
    "#### Parte 1\n",
    "- Aqui o modelo de IA (ChatGPT) é inicializado.\n",
    "- Ele também ganha uma “memória”, que guarda o histórico da conversa, para lembrar o que já foi falado antes.\n",
    "- Isso permite respostas mais naturais e coerentes ao longo do diálogo.\n",
    "\n",
    "#### Parte 2\n",
    "- Este bloco junta tudo: o modelo de IA, a memória e o buscador.\n",
    "- Ele cria uma “cadeia de conversação”, que é a parte do sistema que realmente entende as perguntas e busca as respostas nos documentos.\n",
    "- No final, o código faz uma pergunta de teste e mostra a resposta da IA."
   ]
  },
  {
   "cell_type": "code",
   "execution_count": null,
   "id": "6ab9093f-a6be-4ade-98f0-6911f47cb091",
   "metadata": {},
   "outputs": [],
   "source": [
    "# Parte 1: Inicialização do LLM e memória (versão compatível com o novo LangChain)\n",
    "\n",
    "from langchain_openai import ChatOpenAI\n",
    "from langchain.memory import ConversationBufferMemory\n",
    "from langchain.memory.chat_message_histories import ChatMessageHistory\n",
    "\n",
    "# Modelo a ser usado\n",
    "MODEL = \"gpt-3.5-turbo\"\n",
    "\n",
    "# Inicializar LLM\n",
    "llm = ChatOpenAI(temperature=0.7, model=MODEL)\n",
    "\n",
    "# Criar histórico moderno\n",
    "chat_history = ChatMessageHistory()\n",
    "\n",
    "# Criar memória moderna da conversa\n",
    "memory = ConversationBufferMemory(\n",
    "    memory_key=\"chat_history\",\n",
    "    chat_memory=chat_history,  # ✅ novo parâmetro exigido\n",
    "    return_messages=True,\n",
    "    output_key=\"answer\"\n",
    ")\n",
    "\n",
    "print(\"✅ LLM e memória configurados com LangChain!\")"
   ]
  },
  {
   "cell_type": "code",
   "execution_count": null,
   "id": "c4830b80-5d43-4d23-9ac6-410fc110b74b",
   "metadata": {},
   "outputs": [],
   "source": [
    "# Parte 2: ConversationalRetrievalChain atualizada\n",
    "\n",
    "from langchain.prompts import PromptTemplate\n",
    "from langchain.chains import ConversationalRetrievalChain\n",
    "\n",
    "# --- Configurações ---\n",
    "similarity_threshold = 0.5\n",
    "k_results = 20\n",
    "\n",
    "# Criar o prompt do sistema\n",
    "system_prompt = \"\"\"\n",
    "Você é um assistente que responde perguntas sobre a empresa SegurosLLM.\n",
    "\n",
    "Use o histórico de conversa e os documentos recuperados para responder.\n",
    "\n",
    "Sempre baseie suas respostas estritamente nos documentos recuperados. Se os documentos contiverem informações parciais, responda com o que estiver disponível. Se não houver informação, diga isso.\n",
    "\n",
    "Não invente nomes, cargos ou fatos.\n",
    "\n",
    "Você pode usar as informações da fonte do documento mostradas no formato [FONTE: doc_type - file_name] se isso ajudar a responder a pergunta com precisão.\n",
    "\n",
    "Sempre extraia números exatos (como número de funcionários, anos, receita, etc.) dos documentos, se mencionados.\n",
    "\n",
    "Histórico de conversa:\n",
    "{chat_history}\n",
    "\n",
    "Documentos:\n",
    "{context}\n",
    "\n",
    "Pergunta:\n",
    "{question}\n",
    "\"\"\"\n",
    "\n",
    "prompt = PromptTemplate(\n",
    "    input_variables=[\"chat_history\", \"context\", \"question\"],\n",
    "    template=system_prompt\n",
    ")\n",
    "\n",
    "# --- Criar retriever do Chroma ---\n",
    "retriever = db.as_retriever(\n",
    "    search_type=\"similarity_score_threshold\",\n",
    "    search_kwargs={\"k\": k_results, \"score_threshold\": similarity_threshold}\n",
    ")\n",
    "\n",
    "# --- Criar ConversationalRetrievalChain ---\n",
    "conversation_chain = ConversationalRetrievalChain.from_llm(\n",
    "    llm=llm,\n",
    "    retriever=retriever,\n",
    "    memory=memory,\n",
    "    combine_docs_chain_kwargs={\"prompt\": prompt},\n",
    "    return_source_documents=False  # evita conflito com memória\n",
    ")\n",
    "\n",
    "# --- Pergunta de teste ---\n",
    "question = \"Quem são os 3 maiores salários em 2023 com base, bônus e total. Incluir nomes.\"\n",
    "\n",
    "# Executar consulta\n",
    "response = conversation_chain.invoke({\"question\": question})\n",
    "\n",
    "print(\"\\n🧠 Resposta:\", response[\"answer\"])"
   ]
  },
  {
   "cell_type": "markdown",
   "id": "794f74c2-9b85-4d2c-8476-f4b29a001752",
   "metadata": {},
   "source": [
    "## 🎛️ Interface Gradio\n",
    "\n",
    "- Aqui o código define as regras de comportamento do assistente.\n",
    "- Ele explica como responder, quando ser cordial, e como lidar com dúvidas ou agradecimentos.\n",
    "- É como ensinar boas maneiras e limites à IA antes de colocá-la para conversar."
   ]
  },
  {
   "cell_type": "markdown",
   "id": "a8131b67-ce43-476f-83de-577ebfe7d9f3",
   "metadata": {},
   "source": [
    "from langchain.prompts import PromptTemplate\n",
    "\n",
    "# --- Prompt do sistema atualizado ---\n",
    "system_prompt = \"\"\"\n",
    "Você é um assistente que responde perguntas sobre a empresa SegurosLLM.\n",
    "\n",
    "Use o histórico de conversa e os documentos recuperados para responder. Sempre baseie suas respostas estritamente nos documentos recuperados. Se os documentos contiverem informações parciais, responda com o que estiver disponível. Se não houver informação, diga isso.\n",
    "\n",
    "Você pode usar as informações da fonte do documento no formato [FONTE: doc_type - file_name] se isso ajudar a responder a pergunta com precisão.\n",
    "\n",
    "Extraia números exatos (como número de funcionários, anos, receita, etc.) dos documentos, se mencionados. Não invente nomes, cargos ou fatos.\n",
    "\n",
    "Diretrizes de comportamento:\n",
    "- Responda apenas quando o usuário fizer uma pergunta ou solicitar esclarecimento.\n",
    "- Se o usuário cumprimentar ou agradecer, responda de forma cordial, mas **evite repetir a resposta anterior** a menos que solicitado explicitamente por mais detalhes.\n",
    "- Se o usuário disser \"obrigado\" ou similar, reconheça com gratidão, mas **não forneça a mesma resposta novamente** a menos que informações adicionais sejam solicitadas.\n",
    "- Se o usuário compartilhar feedback, reconheça, agradeça e ofereça assistência adicional.\n",
    "- Se o usuário expressar frustração ou confusão, demonstre empatia, esclareça e ofereça suporte adicional.\n",
    "- Se o usuário não encontrar uma resposta clara, incentive-o a pedir esclarecimentos ou fornecer mais detalhes, e ofereça assistência adicional.\n",
    "\n",
    "Histórico de conversa:\n",
    "{chat_history}\n",
    "\n",
    "Documentos:\n",
    "{context}\n",
    "\n",
    "Pergunta:\n",
    "{question}\n",
    "\"\"\"\n",
    "\n",
    "# --- Criar PromptTemplate ---\n",
    "prompt = PromptTemplate(\n",
    "    input_variables=[\"chat_history\", \"context\", \"question\"],\n",
    "    template=system_prompt\n",
    ")\n",
    "\n",
    "print(\"✅ Prompt do sistema atualizado e pronto para uso!\")"
   ]
  },
  {
   "cell_type": "code",
   "execution_count": null,
   "id": "e9c1276d-abd0-4766-88d0-a710c030014d",
   "metadata": {},
   "outputs": [],
   "source": [
    "from langchain.prompts import PromptTemplate\n",
    "\n",
    "# --- Criar o template do prompt ---\n",
    "prompt = PromptTemplate(\n",
    "    input_variables=[\"chat_history\", \"context\", \"question\"],\n",
    "    template=system_prompt\n",
    ")\n",
    "\n",
    "print(\"✅ PromptTemplate criado e pronto para uso!\")"
   ]
  },
  {
   "cell_type": "code",
   "execution_count": null,
   "id": "c0fe0466-7e87-4a40-b398-29d7e821f48f",
   "metadata": {},
   "outputs": [],
   "source": [
    "from langchain_openai import ChatOpenAI\n",
    "from langchain.memory import ConversationBufferMemory\n",
    "from langchain.chains import ConversationalRetrievalChain\n",
    "\n",
    "# --- Inicializar LLM ---\n",
    "llm = ChatOpenAI(temperature=0.7, model_name=MODEL)\n",
    "\n",
    "# --- Memória de conversa ---\n",
    "memory = ConversationBufferMemory(\n",
    "    memory_key='chat_history',\n",
    "    return_messages=True,\n",
    "    output_key='answer'\n",
    ")\n",
    "\n",
    "# --- ConversationalRetrievalChain ---\n",
    "conversation_chain = ConversationalRetrievalChain.from_llm(\n",
    "    llm=llm,\n",
    "    retriever=retriever,\n",
    "    memory=memory,\n",
    "    return_source_documents=True,\n",
    "    combine_docs_chain_kwargs={\"prompt\": prompt}\n",
    ")\n",
    "\n",
    "# --- Função simples para chat ---\n",
    "def chat(question):\n",
    "    result = conversation_chain.invoke({\"question\": question})\n",
    "    return result[\"answer\"]\n",
    "\n",
    "# --- Teste ---\n",
    "resposta = chat(\"Quem são os 3 maiores salários em 2023 com base, bônus e total. Incluir nomes.\")\n",
    "print(\"\\n🧠 Resposta:\", resposta)"
   ]
  },
  {
   "cell_type": "code",
   "execution_count": null,
   "id": "99755b1f-8d1d-49fc-aa41-3e6d245654ac",
   "metadata": {},
   "outputs": [],
   "source": [
    "import gradio as gr\n",
    "\n",
    "# Função para Gradio no novo formato 'messages'\n",
    "def chat_gradio(user_input, chat_history):\n",
    "    resposta = chat(user_input)\n",
    "    chat_history = chat_history or []\n",
    "    chat_history.append({\"role\": \"user\", \"content\": user_input})\n",
    "    chat_history.append({\"role\": \"assistant\", \"content\": resposta})\n",
    "    # Retorna o histórico atualizado e limpa o textbox\n",
    "    return chat_history, gr.update(value=\"\")\n",
    "\n",
    "# Criar interface com formato atualizado\n",
    "with gr.Blocks() as demo:\n",
    "    chatbot = gr.Chatbot(type=\"messages\")\n",
    "    msg = gr.Textbox(placeholder=\"Digite sua pergunta aqui...\")\n",
    "\n",
    "    # O terceiro argumento da função submit indica o que será atualizado\n",
    "    msg.submit(chat_gradio, [msg, chatbot], [chatbot, msg])\n",
    "\n",
    "demo.launch(inbrowser=True)"
   ]
  }
 ],
 "metadata": {
  "kernelspec": {
   "display_name": "Python 3 (ipykernel)",
   "language": "python",
   "name": "python3"
  },
  "language_info": {
   "codemirror_mode": {
    "name": "ipython",
    "version": 3
   },
   "file_extension": ".py",
   "mimetype": "text/x-python",
   "name": "python",
   "nbconvert_exporter": "python",
   "pygments_lexer": "ipython3",
   "version": "3.11.13"
  }
 },
 "nbformat": 4,
 "nbformat_minor": 5
}
